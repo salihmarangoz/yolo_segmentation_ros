{
 "cells": [
  {
   "attachments": {},
   "cell_type": "markdown",
   "metadata": {},
   "source": [
    "# Visualize Annotated Dataset"
   ]
  },
  {
   "cell_type": "code",
   "execution_count": null,
   "metadata": {},
   "outputs": [],
   "source": [
    "import json\n",
    "import matplotlib.pyplot as plt\n",
    "from matplotlib.patches import Polygon\n",
    "import numpy as np\n",
    "import os"
   ]
  },
  {
   "attachments": {},
   "cell_type": "markdown",
   "metadata": {},
   "source": [
    "## Test COCO to YOLOV8 Conversion"
   ]
  },
  {
   "cell_type": "code",
   "execution_count": null,
   "metadata": {},
   "outputs": [],
   "source": [
    "!mkdir vis_outputs"
   ]
  },
  {
   "cell_type": "code",
   "execution_count": null,
   "metadata": {},
   "outputs": [],
   "source": [
    "for i in [1,2,3,4,5]:\n",
    "    sample_name = str(i)\n",
    "    img_path = \"data_to_be_annotated/\" + sample_name + \".png\"\n",
    "    ann_path = \"labels/\" + sample_name + \".txt\"\n",
    "\n",
    "    image = plt.imread(img_path)\n",
    "\n",
    "    annotation_poly = []\n",
    "    annotation_label = []\n",
    "    with open(ann_path) as file:\n",
    "        for line in file:\n",
    "            annotation_label.append( int(line.split(\" \")[0]) )\n",
    "            y = np.array(line.split(\" \")[1:]).astype(np.float32)\n",
    "            annotation_poly.append(y)\n",
    "\n",
    "    fig, ax = plt.subplots(figsize=(3.6, 6.4), dpi=194)\n",
    "    ax.imshow(image)\n",
    "\n",
    "    height = image.shape[0]\n",
    "    width = image.shape[1]\n",
    "\n",
    "    image_shape = np.array([width, height]).reshape((-1,2))\n",
    "\n",
    "    for poly, label in zip(annotation_poly, annotation_label):\n",
    "        p = Polygon(poly.reshape((-1,2)) * image_shape, edgecolor = 'r', fill = True, alpha=0.5)\n",
    "        ax.add_patch(p)\n",
    "\n",
    "    \n",
    "    plt.axis('off')\n",
    "    fig.tight_layout()\n",
    "    ax.get_xaxis().set_visible(False)\n",
    "    ax.get_yaxis().set_visible(False)\n",
    "    fig.savefig(\"vis_outputs/\" + sample_name + \"_vis.png\", bbox_inches='tight', pad_inches = 0)"
   ]
  },
  {
   "cell_type": "code",
   "execution_count": null,
   "metadata": {},
   "outputs": [],
   "source": []
  }
 ],
 "metadata": {
  "kernelspec": {
   "display_name": "yolov8_env",
   "language": "python",
   "name": "python3"
  },
  "language_info": {
   "codemirror_mode": {
    "name": "ipython",
    "version": 3
   },
   "file_extension": ".py",
   "mimetype": "text/x-python",
   "name": "python",
   "nbconvert_exporter": "python",
   "pygments_lexer": "ipython3",
   "version": "3.8.10"
  },
  "orig_nbformat": 4
 },
 "nbformat": 4,
 "nbformat_minor": 2
}
