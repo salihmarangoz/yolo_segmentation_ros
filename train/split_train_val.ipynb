{
 "cells": [
  {
   "cell_type": "code",
   "execution_count": 1,
   "metadata": {},
   "outputs": [],
   "source": [
    "DATASET_PATH = \"datasets/sweet-pepper-seg\"\n",
    "VAL_SIZE = 0.1  # 1.0-VAL_SIZE == TRAIN_SIZE"
   ]
  },
  {
   "cell_type": "code",
   "execution_count": 2,
   "metadata": {},
   "outputs": [
    {
     "name": "stdout",
     "output_type": "stream",
     "text": [
      "Number of samples: 900\n",
      "Samples with missing information:\n",
      "{'image': 'datasets/sweet-pepper-seg/images/train/png_Color_1607625826403.48242187500000.png'}\n"
     ]
    }
   ],
   "source": [
    "import glob\n",
    "import os\n",
    "import numpy as np\n",
    "from sklearn.model_selection import train_test_split\n",
    "\n",
    "images_train_path = DATASET_PATH + \"/images/train\"\n",
    "images_val_path = DATASET_PATH + \"/images/val\"\n",
    "labels_train_path = DATASET_PATH + \"/labels/train\"\n",
    "labels_val_path = DATASET_PATH + \"/labels/val\"\n",
    "\n",
    "all_images = glob.glob(images_train_path+\"/*\")\n",
    "all_labels = glob.glob(labels_train_path+\"/*\")\n",
    "\n",
    "all_samples = {}\n",
    "\n",
    "for image_path in all_images:\n",
    "  base_name = os.path.splitext(os.path.basename(image_path))[0]\n",
    "  all_samples[base_name] = {\"image\": image_path}\n",
    "\n",
    "for label_path in all_labels:\n",
    "  base_name = os.path.splitext(os.path.basename(label_path))[0]\n",
    "  if base_name in all_samples:\n",
    "    all_samples[base_name][\"label\"] = label_path\n",
    "  else:\n",
    "    all_samples[base_name] = {\"label\": label_path}\n",
    "\n",
    "print(\"Number of samples:\", len(all_samples))\n",
    "\n",
    "print(\"Samples with missing information:\")\n",
    "to_be_deleted = []\n",
    "for k,v in all_samples.items():\n",
    "  if len(v.values()) != 2:\n",
    "    print(v)\n",
    "    to_be_deleted.append(k)\n",
    "\n",
    "for k in to_be_deleted:\n",
    "  del all_samples[k]"
   ]
  },
  {
   "cell_type": "code",
   "execution_count": 3,
   "metadata": {},
   "outputs": [
    {
     "name": "stdout",
     "output_type": "stream",
     "text": [
      "len(X_train): 809\n",
      "len(X_test): 90\n",
      "len(y_train): 809\n",
      "len(y_test): 90\n"
     ]
    }
   ],
   "source": [
    "X = []\n",
    "y = []\n",
    "for v in all_samples.values():\n",
    "    X.append(v[\"image\"])\n",
    "    y.append(v[\"label\"])\n",
    "\n",
    "X_train, X_test, y_train, y_test = train_test_split(X, y, test_size=VAL_SIZE, random_state=1)\n",
    "\n",
    "print(\"len(X_train):\", len(X_train))\n",
    "print(\"len(X_test):\", len(X_test))\n",
    "print(\"len(y_train):\", len(y_train))\n",
    "print(\"len(y_test):\", len(y_test))"
   ]
  },
  {
   "cell_type": "code",
   "execution_count": 4,
   "metadata": {},
   "outputs": [],
   "source": [
    "import shutil\n",
    "\n",
    "# MOVE SELECTED SAMPLES TO THE VALIDATION SET\n",
    "\n",
    "for image_src in X_test:\n",
    "    shutil.move(image_src, DATASET_PATH+\"/images/val/\")\n",
    "\n",
    "for label_src in y_test:\n",
    "    shutil.move(label_src, DATASET_PATH+\"/labels/val/\")"
   ]
  },
  {
   "cell_type": "code",
   "execution_count": null,
   "metadata": {},
   "outputs": [],
   "source": []
  }
 ],
 "metadata": {
  "kernelspec": {
   "display_name": "Python 3",
   "language": "python",
   "name": "python3"
  },
  "language_info": {
   "codemirror_mode": {
    "name": "ipython",
    "version": 3
   },
   "file_extension": ".py",
   "mimetype": "text/x-python",
   "name": "python",
   "nbconvert_exporter": "python",
   "pygments_lexer": "ipython3",
   "version": "3.8.10"
  },
  "orig_nbformat": 4
 },
 "nbformat": 4,
 "nbformat_minor": 2
}
